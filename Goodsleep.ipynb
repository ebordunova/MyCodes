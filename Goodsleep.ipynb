{
 "cells": [
  {
   "cell_type": "code",
   "execution_count": 18,
   "metadata": {
    "collapsed": false
   },
   "outputs": [
    {
     "name": "stdout",
     "output_type": "stream",
     "text": [
      "Don't you forget going to bed in time!\n"
     ]
    }
   ],
   "source": [
    "##Программа, которая при вводе ответа на вопрос, открыты ли глаза, говорит, высплюсь ли я сегодня\n",
    "#Если следующий день - будний, и времени больше 23:00, она ругается. Если времени меньше или если глаза закрыты, она поет\n",
    "#колыбельную. Если открыты, напоминает, что пора спать.\n",
    "#Если следующий день выходной, говорит, что можно не спать хоть до утра.\n",
    "\n",
    "#Is the eyes open?\n",
    "eyesopen = ['Yes', 'No']\n",
    "\n",
    "#Setting calendar\n",
    "import calendar\n",
    "calendar.LocaleTextCalendar(locale='ru_RU')\n",
    "daybeforework = [0, 1, 2, 3, 6]\n",
    "\n",
    "#Setting dates\n",
    "daybefore = datetime.date.fromordinal(datetime.date.today().toordinal()-1)\n",
    "yesterday = daybefore.weekday()\n",
    "currentday = datetime.datetime.today().weekday()\n",
    "\n",
    "#Setting times\n",
    "import datetime\n",
    "timenow = datetime.datetime.now()\n",
    "gotobed = timenow.replace(hour=23, minute=0, second=0, microsecond=0)\n",
    "midnight = timenow.replace(hour=23, minute=59, second=59, microsecond=59)\n",
    "\n",
    "\n",
    "def goodsleep(eyesopen):\n",
    "    if timenow < midnight:\n",
    "        if currentday in daybeforework:\n",
    "            if timenow >= gotobed and eyesopen == 'Yes':\n",
    "                print(\"You suck! Try again tomorrow\")     \n",
    "            elif timenow < gotobed and eyesopen == 'Yes':\n",
    "                print(\"Don't you forget going to bed in time!\")\n",
    "            else:\n",
    "                print(\"*Singing lullaby*\")\n",
    "        else:\n",
    "            print(\"Weekend's coming! Stay awake as long as you want\")\n",
    "\n",
    "    else:\n",
    "        if yesterday in daybeforework:\n",
    "            if eyesopen == 'Yes':\n",
    "                print(\"You suck! Try again tomorrow\")\n",
    "            else:\n",
    "                print(\"*Singing lullaby*\")\n",
    "        else:\n",
    "            print(\"Weekend's coming! Stay awake as long as you want\") \n",
    "\n",
    "            \n",
    "goodsleep('Yes')"
   ]
  },
  {
   "cell_type": "code",
   "execution_count": null,
   "metadata": {
    "collapsed": true
   },
   "outputs": [],
   "source": []
  }
 ],
 "metadata": {
  "kernelspec": {
   "display_name": "Python 3",
   "language": "python",
   "name": "python3"
  },
  "language_info": {
   "codemirror_mode": {
    "name": "ipython",
    "version": 3
   },
   "file_extension": ".py",
   "mimetype": "text/x-python",
   "name": "python",
   "nbconvert_exporter": "python",
   "pygments_lexer": "ipython3",
   "version": "3.4.3"
  }
 },
 "nbformat": 4,
 "nbformat_minor": 0
}
